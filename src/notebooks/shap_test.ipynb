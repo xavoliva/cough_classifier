{
 "cells": [
  {
   "cell_type": "code",
   "execution_count": 13,
   "metadata": {
    "collapsed": true,
    "jupyter": {
     "outputs_hidden": true
    }
   },
   "outputs": [],
   "source": [
    "# https://github.com/Ekeany/Boruta-Shap\n",
    "from BorutaShap import BorutaShap\n",
    "from IPython.core.display import display\n",
    "from sklearn.tree import DecisionTreeClassifier\n",
    "from src.utils.preprocessing import preprocessing_pipeline\n",
    "from src.utils.get_data import import_data"
   ]
  },
  {
   "cell_type": "code",
   "execution_count": 14,
   "metadata": {
    "collapsed": false,
    "jupyter": {
     "outputs_hidden": false
    },
    "pycharm": {
     "name": "#%%\n"
    }
   },
   "outputs": [
    {
     "name": "stdout",
     "output_type": "stream",
     "text": [
      "The autoreload extension is already loaded. To reload it, use:\n",
      "  %reload_ext autoreload\n"
     ]
    }
   ],
   "source": [
    "%load_ext autoreload\n",
    "%autoreload 2"
   ]
  },
  {
   "cell_type": "code",
   "execution_count": 15,
   "metadata": {
    "collapsed": false,
    "jupyter": {
     "outputs_hidden": false
    },
    "pycharm": {
     "name": "#%%\n"
    }
   },
   "outputs": [],
   "source": [
    "DATA_PATH = \"../../data\""
   ]
  },
  {
   "cell_type": "code",
   "execution_count": 16,
   "metadata": {
    "collapsed": false,
    "jupyter": {
     "outputs_hidden": false
    },
    "pycharm": {
     "name": "#%%\n"
    }
   },
   "outputs": [],
   "source": [
    "X_no, y_no = import_data(DATA_PATH, segmentation_type='no',\n",
    "                         drop_user_features=False,\n",
    "                         drop_expert=False)\n",
    "\n",
    "X_no = preprocessing_pipeline(X_no, norm=True, dummy=True)"
   ]
  },
  {
   "cell_type": "code",
   "execution_count": 17,
   "metadata": {
    "collapsed": false,
    "jupyter": {
     "outputs_hidden": false
    },
    "pycharm": {
     "name": "#%%\n"
    }
   },
   "outputs": [],
   "source": [
    "FeatureSelector = BorutaShap(model=DecisionTreeClassifier(),\n",
    "                             importance_measure='shap',\n",
    "                             classification=True)"
   ]
  },
  {
   "cell_type": "code",
   "execution_count": 18,
   "metadata": {
    "collapsed": false,
    "jupyter": {
     "outputs_hidden": false
    },
    "pycharm": {
     "name": "#%%\n"
    }
   },
   "outputs": [
    {
     "name": "stderr",
     "output_type": "stream",
     "text": [
      "100%|██████████| 200/200 [00:41<00:00,  4.81it/s]\n"
     ]
    },
    {
     "name": "stdout",
     "output_type": "stream",
     "text": [
      "5 attributes confirmed important: ['PSD_225-425', 'MFCC_std0', 'PSD_3100-3700', 'Expert', 'MFCC_mean8']\n",
      "51 attributes confirmed unimportant: ['MFCC_std9', 'SNR', 'Spectral_StDev', 'MFCC_mean12', 'Crest_Factor', 'Zero_Crossing_Rate', 'Spectral_Rolloff', 'MFCC_mean6', 'MFCC_mean4', 'MFCC_mean3', 'PSD_450-550', 'Gender_0.0', 'Spectral_Centroid', 'MFCC_std3', 'Spectral_Spread', 'MFCC_std1', 'Age', 'PSD_2500-2900', 'MFCC_mean9', 'MFCC_mean1', 'MFCC_std2', 'Spectral_Slope', 'MFCC_mean0', 'PSD_1325-1600', 'EEPD50_100', 'Spectral_Decrease', 'MFCC_std4', 'Resp_Condition_1.0', 'Symptoms_0.0', 'MFCC_mean7', 'Dominant_Freq', 'Gender_1.0', 'MFCC_std6', 'MFCC_std12', 'MFCC_std11', 'MFCC_mean2', 'MFCC_std5', 'Symptoms_1.0', 'RMS_Power', 'Spectral_Bandwidth', 'MFCC_std10', 'MFCC_mean5', 'Spectral_Kurtosis', 'Resp_Condition_0.0', 'Spectral_Flatness', 'MFCC_mean11', 'MFCC_std8', 'MFCC_std7', 'Spectral_Skewness', 'PSD_1600-2000', 'MFCC_mean10']\n",
      "0 tentative attributes remains: []\n"
     ]
    }
   ],
   "source": [
    "FeatureSelector.fit(X=X_no, y=y_no['Label'], n_trials=200, sample=False,\n",
    "                    train_or_test='test', normalize=False, verbose=True)"
   ]
  },
  {
   "cell_type": "code",
   "execution_count": 19,
   "metadata": {
    "collapsed": false,
    "jupyter": {
     "outputs_hidden": false
    },
    "pycharm": {
     "name": "#%%\n"
    }
   },
   "outputs": [
    {
     "data": {
      "image/png": "[encoded data removed]",
      "text/plain": [
       "<Figure size 864x576 with 1 Axes>"
      ]
     },
     "metadata": {
      "needs_background": "light"
     },
     "output_type": "display_data"
    }
   ],
   "source": [
    "# Returns Boxplot of features\n",
    "FeatureSelector.plot(which_features='accepted')"
   ]
  },
  {
   "cell_type": "code",
   "execution_count": 20,
   "metadata": {
    "collapsed": false,
    "jupyter": {
     "outputs_hidden": false
    },
    "pycharm": {
     "name": "#%%\n"
    }
   },
   "outputs": [
    {
     "name": "stdout",
     "output_type": "stream",
     "text": [
      "['PSD_225-425', 'MFCC_std0', 'PSD_3100-3700', 'Expert', 'MFCC_mean8']\n"
     ]
    }
   ],
   "source": [
    "print(list(FeatureSelector.Subset().columns))"
   ]
  },
  {
   "cell_type": "markdown",
   "metadata": {
    "pycharm": {
     "name": "#%% md\n"
    }
   },
   "source": [
    "The most important feature according to the Boruta algorithm using SHAP values, is the Expert column.\n",
    "This means that the most important information to make a good prediction is the knowledge of who labeled the data.\n",
    "This result could indicate human error in the labeling process.\n"
   ]
  },
  {
   "cell_type": "code",
   "execution_count": 21,
   "metadata": {
    "collapsed": false,
    "jupyter": {
     "outputs_hidden": false
    },
    "pycharm": {
     "name": "#%%\n"
    }
   },
   "outputs": [],
   "source": [
    "X_no, y_no = import_data(DATA_PATH, segmentation_type='no',\n",
    "                         drop_user_features=True,\n",
    "                         drop_expert=True)\n",
    "\n",
    "X_no = preprocessing_pipeline(X_no, start=0, stop=None, norm=True, dummy=False)\n",
    "\n",
    "FeatureSelectorNoExpert = BorutaShap(model=DecisionTreeClassifier(),\n",
    "                                     importance_measure='shap',\n",
    "                                     classification=True)"
   ]
  },
  {
   "cell_type": "code",
   "execution_count": 22,
   "metadata": {
    "collapsed": false,
    "jupyter": {
     "outputs_hidden": false
    },
    "pycharm": {
     "name": "#%%\n"
    }
   },
   "outputs": [
    {
     "name": "stderr",
     "output_type": "stream",
     "text": [
      "100%|██████████| 200/200 [00:39<00:00,  5.10it/s]\n"
     ]
    },
    {
     "name": "stdout",
     "output_type": "stream",
     "text": [
      "4 attributes confirmed important: ['MFCC_std0', 'MFCC_mean0', 'MFCC_std5', 'PSD_225-425']\n",
      "44 attributes confirmed unimportant: ['MFCC_std9', 'SNR', 'Spectral_StDev', 'MFCC_mean12', 'Crest_Factor', 'Zero_Crossing_Rate', 'Spectral_Rolloff', 'MFCC_mean6', 'MFCC_mean4', 'MFCC_mean3', 'MFCC_mean8', 'PSD_450-550', 'Spectral_Centroid', 'MFCC_std3', 'Spectral_Spread', 'MFCC_std1', 'PSD_2500-2900', 'MFCC_mean9', 'MFCC_mean1', 'MFCC_std2', 'Spectral_Slope', 'PSD_1325-1600', 'EEPD50_100', 'Spectral_Decrease', 'MFCC_std4', 'MFCC_mean7', 'PSD_3100-3700', 'Dominant_Freq', 'MFCC_std6', 'MFCC_std12', 'MFCC_std11', 'MFCC_mean2', 'RMS_Power', 'Spectral_Bandwidth', 'MFCC_std10', 'MFCC_mean5', 'Spectral_Kurtosis', 'Spectral_Flatness', 'MFCC_mean11', 'MFCC_std8', 'MFCC_std7', 'Spectral_Skewness', 'PSD_1600-2000', 'MFCC_mean10']\n",
      "0 tentative attributes remains: []\n"
     ]
    }
   ],
   "source": [
    "FeatureSelectorNoExpert.fit(X=X_no, y=y_no['Label'], n_trials=200, sample=False,\n",
    "                            train_or_test='test', normalize=False, verbose=True)"
   ]
  },
  {
   "cell_type": "code",
   "execution_count": 23,
   "metadata": {
    "collapsed": false,
    "jupyter": {
     "outputs_hidden": false
    },
    "pycharm": {
     "name": "#%%\n"
    }
   },
   "outputs": [
    {
     "data": {
      "image/png": "[encoded data removed]",
      "text/plain": [
       "<Figure size 864x576 with 1 Axes>"
      ]
     },
     "metadata": {
      "needs_background": "light"
     },
     "output_type": "display_data"
    }
   ],
   "source": [
    "# Returns Boxplot of features\n",
    "FeatureSelectorNoExpert.plot(which_features='accepted')"
   ]
  },
  {
   "cell_type": "code",
   "execution_count": 24,
   "metadata": {
    "collapsed": false,
    "jupyter": {
     "outputs_hidden": false
    },
    "pycharm": {
     "name": "#%%\n"
    }
   },
   "outputs": [
    {
     "data": {
      "text/html": [
       "<div>\n",
       "<style scoped>\n",
       "    .dataframe tbody tr th:only-of-type {\n",
       "        vertical-align: middle;\n",
       "    }\n",
       "\n",
       "    .dataframe tbody tr th {\n",
       "        vertical-align: top;\n",
       "    }\n",
       "\n",
       "    .dataframe thead th {\n",
       "        text-align: right;\n",
       "    }\n",
       "</style>\n",
       "<table border=\"1\" class=\"dataframe\">\n",
       "  <thead>\n",
       "    <tr style=\"text-align: right;\">\n",
       "      <th></th>\n",
       "      <th>MFCC_std0</th>\n",
       "      <th>MFCC_mean0</th>\n",
       "      <th>MFCC_std5</th>\n",
       "      <th>PSD_225-425</th>\n",
       "    </tr>\n",
       "    <tr>\n",
       "      <th>subject</th>\n",
       "      <th></th>\n",
       "      <th></th>\n",
       "      <th></th>\n",
       "      <th></th>\n",
       "    </tr>\n",
       "  </thead>\n",
       "  <tbody>\n",
       "    <tr>\n",
       "      <th>008ba489-31ad-44d8-856b-fcf72369dc46</th>\n",
       "      <td>-0.450775</td>\n",
       "      <td>-0.815856</td>\n",
       "      <td>0.967208</td>\n",
       "      <td>0.336941</td>\n",
       "    </tr>\n",
       "    <tr>\n",
       "      <th>008c1c9e-aeef-40c5-846c-24f1b964f884</th>\n",
       "      <td>0.594988</td>\n",
       "      <td>-0.827078</td>\n",
       "      <td>-1.219117</td>\n",
       "      <td>-0.944669</td>\n",
       "    </tr>\n",
       "    <tr>\n",
       "      <th>00bf9f83-2e8f-47cf-a4f2-97f2beceebc1</th>\n",
       "      <td>-0.175752</td>\n",
       "      <td>-0.198846</td>\n",
       "      <td>-0.260383</td>\n",
       "      <td>0.549881</td>\n",
       "    </tr>\n",
       "    <tr>\n",
       "      <th>018b40a1-c109-459a-9e31-86cbd2cb3918</th>\n",
       "      <td>1.223733</td>\n",
       "      <td>-0.548175</td>\n",
       "      <td>-0.054905</td>\n",
       "      <td>0.334666</td>\n",
       "    </tr>\n",
       "    <tr>\n",
       "      <th>01bf156f-a8ff-48f6-9335-8a1f5bb4c1b7</th>\n",
       "      <td>-0.964426</td>\n",
       "      <td>1.080773</td>\n",
       "      <td>1.507353</td>\n",
       "      <td>0.788263</td>\n",
       "    </tr>\n",
       "    <tr>\n",
       "      <th>...</th>\n",
       "      <td>...</td>\n",
       "      <td>...</td>\n",
       "      <td>...</td>\n",
       "      <td>...</td>\n",
       "    </tr>\n",
       "    <tr>\n",
       "      <th>ff1234d7-7837-4ba7-842f-99fdc916baa9</th>\n",
       "      <td>-0.405642</td>\n",
       "      <td>-0.964672</td>\n",
       "      <td>-1.437985</td>\n",
       "      <td>0.517428</td>\n",
       "    </tr>\n",
       "    <tr>\n",
       "      <th>ff5f97db-9b64-4e35-afe8-af463d5c2c60</th>\n",
       "      <td>0.766807</td>\n",
       "      <td>-0.440918</td>\n",
       "      <td>0.676083</td>\n",
       "      <td>-1.563909</td>\n",
       "    </tr>\n",
       "    <tr>\n",
       "      <th>ff8435f6-76b5-42c1-8f4c-7479710e71bf</th>\n",
       "      <td>-1.514479</td>\n",
       "      <td>-1.809545</td>\n",
       "      <td>-0.373486</td>\n",
       "      <td>0.353219</td>\n",
       "    </tr>\n",
       "    <tr>\n",
       "      <th>ff8bfcc9-3df2-4752-8280-63f023fba31c</th>\n",
       "      <td>1.872907</td>\n",
       "      <td>0.212890</td>\n",
       "      <td>-1.058581</td>\n",
       "      <td>-0.868834</td>\n",
       "    </tr>\n",
       "    <tr>\n",
       "      <th>ffa718e8-da65-4602-8da8-cda7cdc568f2</th>\n",
       "      <td>-0.196676</td>\n",
       "      <td>0.781258</td>\n",
       "      <td>0.153773</td>\n",
       "      <td>1.850618</td>\n",
       "    </tr>\n",
       "  </tbody>\n",
       "</table>\n",
       "<p>1659 rows × 4 columns</p>\n",
       "</div>"
      ],
      "text/plain": [
       "                                      MFCC_std0  MFCC_mean0  MFCC_std5  \\\n",
       "subject                                                                  \n",
       "008ba489-31ad-44d8-856b-fcf72369dc46  -0.450775   -0.815856   0.967208   \n",
       "008c1c9e-aeef-40c5-846c-24f1b964f884   0.594988   -0.827078  -1.219117   \n",
       "00bf9f83-2e8f-47cf-a4f2-97f2beceebc1  -0.175752   -0.198846  -0.260383   \n",
       "018b40a1-c109-459a-9e31-86cbd2cb3918   1.223733   -0.548175  -0.054905   \n",
       "01bf156f-a8ff-48f6-9335-8a1f5bb4c1b7  -0.964426    1.080773   1.507353   \n",
       "...                                         ...         ...        ...   \n",
       "ff1234d7-7837-4ba7-842f-99fdc916baa9  -0.405642   -0.964672  -1.437985   \n",
       "ff5f97db-9b64-4e35-afe8-af463d5c2c60   0.766807   -0.440918   0.676083   \n",
       "ff8435f6-76b5-42c1-8f4c-7479710e71bf  -1.514479   -1.809545  -0.373486   \n",
       "ff8bfcc9-3df2-4752-8280-63f023fba31c   1.872907    0.212890  -1.058581   \n",
       "ffa718e8-da65-4602-8da8-cda7cdc568f2  -0.196676    0.781258   0.153773   \n",
       "\n",
       "                                      PSD_225-425  \n",
       "subject                                            \n",
       "008ba489-31ad-44d8-856b-fcf72369dc46     0.336941  \n",
       "008c1c9e-aeef-40c5-846c-24f1b964f884    -0.944669  \n",
       "00bf9f83-2e8f-47cf-a4f2-97f2beceebc1     0.549881  \n",
       "018b40a1-c109-459a-9e31-86cbd2cb3918     0.334666  \n",
       "01bf156f-a8ff-48f6-9335-8a1f5bb4c1b7     0.788263  \n",
       "...                                           ...  \n",
       "ff1234d7-7837-4ba7-842f-99fdc916baa9     0.517428  \n",
       "ff5f97db-9b64-4e35-afe8-af463d5c2c60    -1.563909  \n",
       "ff8435f6-76b5-42c1-8f4c-7479710e71bf     0.353219  \n",
       "ff8bfcc9-3df2-4752-8280-63f023fba31c    -0.868834  \n",
       "ffa718e8-da65-4602-8da8-cda7cdc568f2     1.850618  \n",
       "\n",
       "[1659 rows x 4 columns]"
      ]
     },
     "metadata": {},
     "output_type": "display_data"
    }
   ],
   "source": [
    "X_no_subset = FeatureSelectorNoExpert.Subset()\n",
    "display(X_no_subset)"
   ]
  }
 ],
 "metadata": {
  "kernelspec": {
   "display_name": "PyCharm (cs-433-project-2-cough_classifier)",
   "language": "python",
   "name": "pycharm-97a0754f"
  },
  "language_info": {
   "codemirror_mode": {
    "name": "ipython",
    "version": 3
   },
   "file_extension": ".py",
   "mimetype": "text/x-python",
   "name": "python",
   "nbconvert_exporter": "python",
   "pygments_lexer": "ipython3",
   "version": "3.8.6"
  }
 },
 "nbformat": 4,
 "nbformat_minor": 4
}