{
 "cells": [
  {
   "cell_type": "markdown",
   "metadata": {},
   "source": [
    "# Data Exploration of COUGHVID Dataset"
   ]
  },
  {
   "cell_type": "markdown",
   "metadata": {},
   "source": [
    "## Import Required Packages and Functions"
   ]
  },
  {
   "cell_type": "code",
   "execution_count": null,
   "metadata": {},
   "outputs": [],
   "source": [
    "import os\n",
    "import subprocess\n",
    "\n",
    "import numpy as np\n",
    "import pandas as pd\n",
    "import matplotlib.pyplot as plt\n",
    "from scipy.io.wavfile import read\n",
    "from IPython.display import display, Audio, Image\n",
    "from tqdm import tqdm\n",
    "\n",
    "%load_ext autoreload\n",
    "%autoreload 2"
   ]
  },
  {
   "cell_type": "markdown",
   "metadata": {},
   "source": [
    "## Load the Data"
   ]
  },
  {
   "cell_type": "code",
   "execution_count": null,
   "metadata": {},
   "outputs": [],
   "source": [
    "data_path = \"../../data\"  # Python package with init\n",
    "audio_files = [data_path + \"/\" + audio_file_name for audio_file_name in os.listdir(\n",
    "    data_path) if audio_file_name[-4:] == \"webm\"]"
   ]
  },
  {
   "cell_type": "markdown",
   "metadata": {},
   "source": [
    "## What are we dealing with?"
   ]
  },
  {
   "cell_type": "code",
   "execution_count": null,
   "metadata": {},
   "outputs": [],
   "source": [
    "nr_samples = 5\n",
    "audio_samples = np.random.choice(audio_files, size=nr_samples)\n",
    "for indx, sample in enumerate(audio_samples):\n",
    "    print(f\"Cough Sample {indx+1}\")\n",
    "    display(Audio(sample))"
   ]
  },
  {
   "cell_type": "markdown",
   "metadata": {},
   "source": [
    "## Transform `webm` audio files to `wav`"
   ]
  },
  {
   "cell_type": "code",
   "execution_count": null,
   "metadata": {},
   "outputs": [],
   "source": [
    "def convert_and_split(filename):\n",
    "    command = ['ffmpeg', '-i', filename, '-ac',\n",
    "               '1', '-f', 'wav', f'{filename[:-5]}.wav']\n",
    "    subprocess.run(command, stdout=subprocess.PIPE, stdin=subprocess.PIPE)\n",
    "\n",
    "\n",
    "# convert to wav files\n",
    "for file in tqdm(audio_files):\n",
    "    convert_and_split(file)"
   ]
  },
  {
   "cell_type": "code",
   "execution_count": null,
   "metadata": {},
   "outputs": [],
   "source": [
    "# get wav files\n",
    "wav_files = [data_path + \"/\" + wav_file_name for wav_file_name in os.listdir(\n",
    "    data_path) if wav_file_name[-3:] == \"wav\"]"
   ]
  },
  {
   "cell_type": "code",
   "execution_count": null,
   "metadata": {},
   "outputs": [],
   "source": [
    "length, nparray = read(wav_files)\n",
    "(length, nparray.shape, nparray)"
   ]
  }
 ],
 "metadata": {
  "kernelspec": {
   "display_name": "PyCharm (cs-433-project-2-cough_classifier)",
   "language": "python",
   "name": "pycharm-97a0754f"
  },
  "language_info": {
   "codemirror_mode": {
    "name": "ipython",
    "version": 3
   },
   "file_extension": ".py",
   "mimetype": "text/x-python",
   "name": "python",
   "nbconvert_exporter": "python",
   "pygments_lexer": "ipython3",
   "version": "3.8.6"
  }
 },
 "nbformat": 4,
 "nbformat_minor": 4
}